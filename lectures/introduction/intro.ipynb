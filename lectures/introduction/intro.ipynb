{
 "cells": [
  {
   "cell_type": "code",
   "execution_count": 1,
   "id": "initial_id",
   "metadata": {
    "collapsed": true,
    "ExecuteTime": {
     "end_time": "2024-03-07T12:49:17.962974Z",
     "start_time": "2024-03-07T12:49:17.720125700Z"
    }
   },
   "outputs": [],
   "source": [
    "import time\n",
    "import mujoco\n",
    "import mujoco.viewer"
   ]
  },
  {
   "cell_type": "code",
   "execution_count": 2,
   "outputs": [
    {
     "ename": "ValueError",
     "evalue": "mjParseXML: resource not found via provider or OS filesystem: 'D:\\Sustech\\2024Spring\\SDM366_Optimal_Control_and_Estimation\\code\\local\\mujoco\\model\\mug.xml'",
     "output_type": "error",
     "traceback": [
      "\u001B[1;31m---------------------------------------------------------------------------\u001B[0m",
      "\u001B[1;31mValueError\u001B[0m                                Traceback (most recent call last)",
      "Cell \u001B[1;32mIn [2], line 1\u001B[0m\n\u001B[1;32m----> 1\u001B[0m m \u001B[38;5;241m=\u001B[39m \u001B[43mmujoco\u001B[49m\u001B[38;5;241;43m.\u001B[39;49m\u001B[43mMjModel\u001B[49m\u001B[38;5;241;43m.\u001B[39;49m\u001B[43mfrom_xml_path\u001B[49m\u001B[43m(\u001B[49m\u001B[38;5;124;43mr\u001B[39;49m\u001B[38;5;124;43m'\u001B[39;49m\u001B[38;5;124;43mD:\u001B[39;49m\u001B[38;5;124;43m\\\u001B[39;49m\u001B[38;5;124;43mSustech\u001B[39;49m\u001B[38;5;124;43m\\\u001B[39;49m\u001B[38;5;124;43m2024Spring\u001B[39;49m\u001B[38;5;124;43m\\\u001B[39;49m\u001B[38;5;124;43mSDM366_Optimal_Control_and_Estimation\u001B[39;49m\u001B[38;5;124;43m\\\u001B[39;49m\u001B[38;5;124;43mcode\u001B[39;49m\u001B[38;5;124;43m\\\u001B[39;49m\u001B[38;5;124;43mlocal\u001B[39;49m\u001B[38;5;124;43m\\\u001B[39;49m\u001B[38;5;124;43mmujoco\u001B[39;49m\u001B[38;5;124;43m\\\u001B[39;49m\u001B[38;5;124;43mmodel\u001B[39;49m\u001B[38;5;124;43m\\\u001B[39;49m\u001B[38;5;124;43mmug.xml\u001B[39;49m\u001B[38;5;124;43m'\u001B[39;49m\u001B[43m)\u001B[49m\n\u001B[0;32m      2\u001B[0m d \u001B[38;5;241m=\u001B[39m mujoco\u001B[38;5;241m.\u001B[39mMjData(m)\n\u001B[0;32m      4\u001B[0m \u001B[38;5;28;01mwith\u001B[39;00m mujoco\u001B[38;5;241m.\u001B[39mviewer\u001B[38;5;241m.\u001B[39mlaunch_passive(m, d) \u001B[38;5;28;01mas\u001B[39;00m viewer:\n\u001B[0;32m      5\u001B[0m   \u001B[38;5;66;03m# 30时间步长后关闭viewer\u001B[39;00m\n",
      "\u001B[1;31mValueError\u001B[0m: mjParseXML: resource not found via provider or OS filesystem: 'D:\\Sustech\\2024Spring\\SDM366_Optimal_Control_and_Estimation\\code\\local\\mujoco\\model\\mug.xml'"
     ]
    }
   ],
   "source": [
    "m = mujoco.MjModel.from_xml_path(r'D:\\Sustech\\2024Spring\\SDM366_Optimal_Control_and_Estimation\\code\\local\\mujoco\\model\\mug.xml')\n",
    "d = mujoco.MjData(m)\n",
    "\n",
    "with mujoco.viewer.launch_passive(m, d) as viewer:\n",
    "  # 30时间步长后关闭viewer\n",
    "  start = time.time()\n",
    "  while viewer.is_running() and time.time() - start < 30:\n",
    "    step_start = time.time()\n",
    "\n",
    "    # Mj_step可以替换为同样求值的代码\n",
    "    # mj_step可以替换为同样评估策略并在执行物理之前应用控制信号的代码。\n",
    "    mujoco.mj_step(m, d)\n",
    "\n",
    "    # 查看器选项的修改示例：每两秒钟切换一次接触点。\n",
    "    with viewer.lock():\n",
    "      viewer.opt.flags[mujoco.mjtVisFlag.mjVIS_CONTACTPOINT] = int(d.time % 2)\n",
    "\n",
    "    # 获取物理状态的更改，应用扰动，从GUI更新选项。\n",
    "    viewer.sync()\n",
    "\n",
    "    # 粗略的计时，相对于挂钟会有漂移。\n",
    "    time_until_next_step = m.opt.timestep - (time.time() - step_start)\n",
    "    if time_until_next_step > 0:\n",
    "      time.sleep(time_until_next_step)"
   ],
   "metadata": {
    "collapsed": false,
    "ExecuteTime": {
     "end_time": "2024-03-07T12:49:56.827636700Z",
     "start_time": "2024-03-07T12:49:56.529152700Z"
    }
   },
   "id": "67f797a9d4dd4d61"
  },
  {
   "cell_type": "code",
   "execution_count": null,
   "outputs": [],
   "source": [
    "paused = False\n",
    "\n",
    "def key_callback(keycode):\n",
    "  if chr(keycode) == ' ':\n",
    "    global paused\n",
    "    paused = not paused\n",
    "\n",
    "...\n",
    "\n",
    "with mujoco.viewer.launch_passive(m, d, key_callback=key_callback) as viewer:\n",
    "  while viewer.is_running():\n",
    "    ...\n",
    "    if not paused:\n",
    "      mujoco.mj_step(m, d)\n",
    "      viewer.sync()\n",
    "    ..."
   ],
   "metadata": {
    "collapsed": false
   },
   "id": "bf08ca542b604e57"
  }
 ],
 "metadata": {
  "kernelspec": {
   "display_name": "Python 3",
   "language": "python",
   "name": "python3"
  },
  "language_info": {
   "codemirror_mode": {
    "name": "ipython",
    "version": 2
   },
   "file_extension": ".py",
   "mimetype": "text/x-python",
   "name": "python",
   "nbconvert_exporter": "python",
   "pygments_lexer": "ipython2",
   "version": "2.7.6"
  }
 },
 "nbformat": 4,
 "nbformat_minor": 5
}
